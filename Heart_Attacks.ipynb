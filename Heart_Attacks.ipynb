{
 "cells": [
  {
   "cell_type": "code",
   "execution_count": 65,
   "metadata": {},
   "outputs": [],
   "source": [
    "import pandas as pd\n",
    "import seaborn as sns\n",
    "import plotly.express as px\n",
    "from matplotlib import pyplot as plt\n",
    "from potosnail import Wrappers, DataHelper, Evaluater"
   ]
  },
  {
   "cell_type": "code",
   "execution_count": 2,
   "metadata": {},
   "outputs": [
    {
     "data": {
      "text/html": [
       "<div>\n",
       "<style scoped>\n",
       "    .dataframe tbody tr th:only-of-type {\n",
       "        vertical-align: middle;\n",
       "    }\n",
       "\n",
       "    .dataframe tbody tr th {\n",
       "        vertical-align: top;\n",
       "    }\n",
       "\n",
       "    .dataframe thead th {\n",
       "        text-align: right;\n",
       "    }\n",
       "</style>\n",
       "<table border=\"1\" class=\"dataframe\">\n",
       "  <thead>\n",
       "    <tr style=\"text-align: right;\">\n",
       "      <th></th>\n",
       "      <th>age</th>\n",
       "      <th>sex</th>\n",
       "      <th>cp</th>\n",
       "      <th>trtbps</th>\n",
       "      <th>chol</th>\n",
       "      <th>fbs</th>\n",
       "      <th>restecg</th>\n",
       "      <th>thalachh</th>\n",
       "      <th>exng</th>\n",
       "      <th>oldpeak</th>\n",
       "      <th>slp</th>\n",
       "      <th>caa</th>\n",
       "      <th>thall</th>\n",
       "      <th>output</th>\n",
       "      <th>high_col</th>\n",
       "      <th>cp_type</th>\n",
       "      <th>restecg_type</th>\n",
       "    </tr>\n",
       "  </thead>\n",
       "  <tbody>\n",
       "    <tr>\n",
       "      <th>0</th>\n",
       "      <td>63</td>\n",
       "      <td>1</td>\n",
       "      <td>3</td>\n",
       "      <td>145</td>\n",
       "      <td>233</td>\n",
       "      <td>1</td>\n",
       "      <td>0</td>\n",
       "      <td>150</td>\n",
       "      <td>0</td>\n",
       "      <td>2.3</td>\n",
       "      <td>0</td>\n",
       "      <td>0</td>\n",
       "      <td>1</td>\n",
       "      <td>1</td>\n",
       "      <td>0</td>\n",
       "      <td>asymptomatic</td>\n",
       "      <td>ST-T</td>\n",
       "    </tr>\n",
       "    <tr>\n",
       "      <th>1</th>\n",
       "      <td>37</td>\n",
       "      <td>1</td>\n",
       "      <td>2</td>\n",
       "      <td>130</td>\n",
       "      <td>250</td>\n",
       "      <td>0</td>\n",
       "      <td>1</td>\n",
       "      <td>187</td>\n",
       "      <td>0</td>\n",
       "      <td>3.5</td>\n",
       "      <td>0</td>\n",
       "      <td>0</td>\n",
       "      <td>2</td>\n",
       "      <td>1</td>\n",
       "      <td>1</td>\n",
       "      <td>non-anginal</td>\n",
       "      <td>ventricular hypertrophy</td>\n",
       "    </tr>\n",
       "    <tr>\n",
       "      <th>2</th>\n",
       "      <td>41</td>\n",
       "      <td>0</td>\n",
       "      <td>1</td>\n",
       "      <td>130</td>\n",
       "      <td>204</td>\n",
       "      <td>0</td>\n",
       "      <td>0</td>\n",
       "      <td>172</td>\n",
       "      <td>0</td>\n",
       "      <td>1.4</td>\n",
       "      <td>2</td>\n",
       "      <td>0</td>\n",
       "      <td>2</td>\n",
       "      <td>1</td>\n",
       "      <td>0</td>\n",
       "      <td>atypical</td>\n",
       "      <td>ST-T</td>\n",
       "    </tr>\n",
       "    <tr>\n",
       "      <th>3</th>\n",
       "      <td>56</td>\n",
       "      <td>1</td>\n",
       "      <td>1</td>\n",
       "      <td>120</td>\n",
       "      <td>236</td>\n",
       "      <td>0</td>\n",
       "      <td>1</td>\n",
       "      <td>178</td>\n",
       "      <td>0</td>\n",
       "      <td>0.8</td>\n",
       "      <td>2</td>\n",
       "      <td>0</td>\n",
       "      <td>2</td>\n",
       "      <td>1</td>\n",
       "      <td>0</td>\n",
       "      <td>atypical</td>\n",
       "      <td>ventricular hypertrophy</td>\n",
       "    </tr>\n",
       "    <tr>\n",
       "      <th>4</th>\n",
       "      <td>57</td>\n",
       "      <td>0</td>\n",
       "      <td>0</td>\n",
       "      <td>120</td>\n",
       "      <td>354</td>\n",
       "      <td>0</td>\n",
       "      <td>1</td>\n",
       "      <td>163</td>\n",
       "      <td>1</td>\n",
       "      <td>0.6</td>\n",
       "      <td>2</td>\n",
       "      <td>0</td>\n",
       "      <td>2</td>\n",
       "      <td>1</td>\n",
       "      <td>1</td>\n",
       "      <td>typical</td>\n",
       "      <td>ventricular hypertrophy</td>\n",
       "    </tr>\n",
       "  </tbody>\n",
       "</table>\n",
       "</div>"
      ],
      "text/plain": [
       "   age  sex  cp  trtbps  chol  fbs  restecg  thalachh  exng  oldpeak  slp  \\\n",
       "0   63    1   3     145   233    1        0       150     0      2.3    0   \n",
       "1   37    1   2     130   250    0        1       187     0      3.5    0   \n",
       "2   41    0   1     130   204    0        0       172     0      1.4    2   \n",
       "3   56    1   1     120   236    0        1       178     0      0.8    2   \n",
       "4   57    0   0     120   354    0        1       163     1      0.6    2   \n",
       "\n",
       "   caa  thall  output  high_col       cp_type             restecg_type  \n",
       "0    0      1       1         0  asymptomatic                     ST-T  \n",
       "1    0      2       1         1   non-anginal  ventricular hypertrophy  \n",
       "2    0      2       1         0      atypical                     ST-T  \n",
       "3    0      2       1         0      atypical  ventricular hypertrophy  \n",
       "4    0      2       1         1       typical  ventricular hypertrophy  "
      ]
     },
     "execution_count": 2,
     "metadata": {},
     "output_type": "execute_result"
    }
   ],
   "source": [
    "df = pd.read_csv('https://raw.githubusercontent.com/spe301/healthcare-ds/main/heart.csv').drop(['Unnamed: 0'], axis='columns')\n",
    "df.head()"
   ]
  },
  {
   "cell_type": "markdown",
   "metadata": {},
   "source": [
    "# EDA \n",
    "1. What percentage of patients among each blood pressure zone have high cholesterol?\n",
    "2. What percentage of patients who had a heart attack also have diabetes, fbs of 1, compared to those who haven't had a heart attack\n",
    "3. What percentage of patients with exercise enduced chest pain have heart attacks compared to those without it? how does this vary accross age groups?\n",
    "4. what percentage of patients with exercise enduced chest pain have Ventricular Hypertrophy? for context this is a condition in which the heart muscle gets too big because it has to 'work harder' in order to function."
   ]
  },
  {
   "cell_type": "code",
   "execution_count": 3,
   "metadata": {},
   "outputs": [],
   "source": [
    "normal = df.loc[df['trtbps']<120]\n",
    "elevated = df.loc[df['trtbps']<130]\n",
    "hypertension_1 = df.loc[df['trtbps']<140]\n",
    "hypertension_2 = df.loc[df['trtbps']<180]\n",
    "emergency = df.loc[df['trtbps']>180]"
   ]
  },
  {
   "cell_type": "code",
   "execution_count": 4,
   "metadata": {},
   "outputs": [],
   "source": [
    "group1 = [len(normal.loc[normal['high_col']==1])/ len(normal)]\n",
    "group5 = [len(emergency.loc[emergency['high_col']==1])/ len(emergency)]\n",
    "nums = [120, 130, 140]\n",
    "groups = [elevated, hypertension_1, hypertension_2]"
   ]
  },
  {
   "cell_type": "code",
   "execution_count": 5,
   "metadata": {},
   "outputs": [],
   "source": [
    "values = []\n",
    "for i in range(len(groups)):\n",
    "    temp = groups[i].loc[groups[i]['trtbps']>nums[i]]\n",
    "    percentage = len(temp.loc[temp['high_col']==1])/ len(temp)\n",
    "    values.append(percentage)"
   ]
  },
  {
   "cell_type": "code",
   "execution_count": 6,
   "metadata": {},
   "outputs": [],
   "source": [
    "values = group1 + values + group5"
   ]
  },
  {
   "cell_type": "code",
   "execution_count": 7,
   "metadata": {},
   "outputs": [],
   "source": [
    "x = ['normal', 'elevated', 'hypertension_1', 'hypertension_2', 'emergency']"
   ]
  },
  {
   "cell_type": "code",
   "execution_count": 8,
   "metadata": {},
   "outputs": [
    {
     "name": "stderr",
     "output_type": "stream",
     "text": [
      "C:\\Users\\aacjp\\Anaconda3\\lib\\site-packages\\seaborn\\_decorators.py:36: FutureWarning:\n",
      "\n",
      "Pass the following variables as keyword args: x, y. From version 0.12, the only valid positional argument will be `data`, and passing other arguments without an explicit keyword will result in an error or misinterpretation.\n",
      "\n"
     ]
    },
    {
     "data": {
      "text/plain": [
       "Text(0.5, 0, 'blood pressure zone')"
      ]
     },
     "execution_count": 8,
     "metadata": {},
     "output_type": "execute_result"
    },
    {
     "data": {
      "image/png": "[encoded data removed]",
      "text/plain": [
       "<Figure size 432x288 with 1 Axes>"
      ]
     },
     "metadata": {
      "needs_background": "light"
     },
     "output_type": "display_data"
    }
   ],
   "source": [
    "sns.barplot(x, values)\n",
    "plt.ylabel('% of patients who are at risk')\n",
    "plt.xlabel('blood pressure zone')"
   ]
  },
  {
   "cell_type": "markdown",
   "metadata": {},
   "source": [
    "Conclusion: all patients with emergency level blood pressure (over 180 mm Hg) are at risk of heart attack. It's important to keep in mind that having normal blood pressure (under 120 mm Hg) dosen't get you out of the woods as 40% of these patients are still at risk.\n",
    "\n",
    "Reccomendation: high blood pressure is an indicator of heart attack but isn't nessecarially the end all be all unless it's very high. A clinic could provide a heart health action plan for patients with blood pressure over 140 mm Hg (hypertension 2) or higher, regardless of their diagnosis. "
   ]
  },
  {
   "cell_type": "markdown",
   "metadata": {},
   "source": [
    "2. What percentage of patients who had a heart attack also have diabetes, fbs of 1, compared to those who haven't had a heart attack?"
   ]
  },
  {
   "cell_type": "code",
   "execution_count": 9,
   "metadata": {},
   "outputs": [
    {
     "data": {
      "text/plain": [
       "13.939393939393941"
      ]
     },
     "execution_count": 9,
     "metadata": {},
     "output_type": "execute_result"
    }
   ],
   "source": [
    "at_risk = df.loc[df['output']==1]\n",
    "(len(at_risk.loc[at_risk['fbs']==1]) / len(at_risk))*100"
   ]
  },
  {
   "cell_type": "code",
   "execution_count": 10,
   "metadata": {},
   "outputs": [
    {
     "data": {
      "text/plain": [
       "13.333333333333334"
      ]
     },
     "execution_count": 10,
     "metadata": {},
     "output_type": "execute_result"
    }
   ],
   "source": [
    "not_risk = df.loc[df['output']==0]\n",
    "(len(not_risk.loc[not_risk['fbs']==1]) / len(at_risk))*100"
   ]
  },
  {
   "cell_type": "markdown",
   "metadata": {},
   "source": [
    "Conclusion: There is not a major difference; both groups are both about 13-14% diabetic. We are able to know that they are diabetic because an fbs greater than 120 means that the patient is diabetic. Diabetes, although a heart attack risk factor, dosen't seem to play as much of a role as high blood pressure.\n",
    "\n",
    "Reccomendation: the clinic should place more emphasis on blood pressure when assessing patients than with fbs. It would be advised to measure blood pressure before fbs in order to understand the patients risk sooner. However, knowing that these two often go together we could provide diabetes prevention education to our at risk patients."
   ]
  },
  {
   "cell_type": "markdown",
   "metadata": {},
   "source": [
    "3. What percentage of patients with exercise enduced chest pain have heart attacks compared to those without it? how does this vary accross age groups?"
   ]
  },
  {
   "cell_type": "code",
   "execution_count": 11,
   "metadata": {},
   "outputs": [
    {
     "data": {
      "text/plain": [
       "0.82"
      ]
     },
     "execution_count": 11,
     "metadata": {},
     "output_type": "execute_result"
    }
   ],
   "source": [
    "chest_pain = df.loc[df['cp']==1]\n",
    "len(chest_pain.loc[chest_pain['output']==1]) / len(chest_pain)"
   ]
  },
  {
   "cell_type": "code",
   "execution_count": 12,
   "metadata": {},
   "outputs": [
    {
     "data": {
      "text/plain": [
       "0.2727272727272727"
      ]
     },
     "execution_count": 12,
     "metadata": {},
     "output_type": "execute_result"
    }
   ],
   "source": [
    "no_pain = df.loc[df['cp']==0]\n",
    "len(no_pain.loc[no_pain['output']==1]) / len(no_pain)"
   ]
  },
  {
   "cell_type": "code",
   "execution_count": 13,
   "metadata": {},
   "outputs": [
    {
     "data": {
      "text/plain": [
       "(29, 77)"
      ]
     },
     "execution_count": 13,
     "metadata": {},
     "output_type": "execute_result"
    }
   ],
   "source": [
    "min(df['age']), max(df['age'])"
   ]
  },
  {
   "cell_type": "code",
   "execution_count": 14,
   "metadata": {
    "scrolled": true
   },
   "outputs": [],
   "source": [
    "group1 = 0\n",
    "group2 = 0\n",
    "group3 = 0\n",
    "group4 = 0\n",
    "pos1 = 0\n",
    "pos2 = 0\n",
    "pos3 = 0\n",
    "pos4 = 0\n",
    "cnt1 = 0\n",
    "cnt2 = 0\n",
    "cnt3 = 0\n",
    "cnt4 = 0\n",
    "for i in range(len(df)):\n",
    "    if df.loc[i]['age'] in range(29, 41):\n",
    "        cnt1 += 1\n",
    "        if df.loc[i]['cp'] == 1:\n",
    "            group1 += 1\n",
    "            if df.loc[i]['output'] == 1:\n",
    "                pos1 += 1\n",
    "    if df.loc[i]['age'] in range(42, 53):\n",
    "        cnt2 += 1\n",
    "        if df.loc[i]['cp'] == 1:\n",
    "            group2 += 1\n",
    "            if df.loc[i]['output'] == 1:\n",
    "                pos2 += 1\n",
    "    if df.loc[i]['age'] in range(54, 65):\n",
    "        cnt3 += 1\n",
    "        if df.loc[i]['cp'] == 1:\n",
    "            group3 += 1\n",
    "            if df.loc[i]['output'] == 1:\n",
    "                pos3 += 1\n",
    "    if df.loc[i]['age'] > 66:\n",
    "        cnt4 += 1\n",
    "        if df.loc[i]['cp'] == 1:\n",
    "            group4 += 1\n",
    "            if df.loc[i]['output'] == 1:\n",
    "                pos4 += 1\n",
    "                \n",
    "groups = [group1, group2, group3, group4]\n",
    "positives = [pos1, pos2, pos3, pos4]\n",
    "counts = [cnt1, cnt2, cnt3, cnt4]"
   ]
  },
  {
   "cell_type": "code",
   "execution_count": 17,
   "metadata": {},
   "outputs": [],
   "source": [
    "age_groups = ['29-41', '42-53', '54-65', '66 & up']\n",
    "percentages = []\n",
    "percentages2 = []\n",
    "for i in range(len(groups)):\n",
    "    percentages.append(groups[i]/counts[i])\n",
    "    percentages2.append(positives[i]/groups[i])"
   ]
  },
  {
   "cell_type": "code",
   "execution_count": 22,
   "metadata": {},
   "outputs": [
    {
     "name": "stderr",
     "output_type": "stream",
     "text": [
      "C:\\Users\\aacjp\\Anaconda3\\lib\\site-packages\\seaborn\\_decorators.py:36: FutureWarning:\n",
      "\n",
      "Pass the following variables as keyword args: x, y. From version 0.12, the only valid positional argument will be `data`, and passing other arguments without an explicit keyword will result in an error or misinterpretation.\n",
      "\n"
     ]
    },
    {
     "data": {
      "text/plain": [
       "Text(0.5, 0, 'age group')"
      ]
     },
     "execution_count": 22,
     "metadata": {},
     "output_type": "execute_result"
    },
    {
     "data": {
      "image/png": "[encoded data removed]",
      "text/plain": [
       "<Figure size 432x288 with 1 Axes>"
      ]
     },
     "metadata": {
      "needs_background": "light"
     },
     "output_type": "display_data"
    }
   ],
   "source": [
    "sns.barplot(age_groups, percentages)\n",
    "plt.ylabel('percentage of patients with exercise enduced chest pain')\n",
    "plt.xlabel('age group')"
   ]
  },
  {
   "cell_type": "code",
   "execution_count": 20,
   "metadata": {},
   "outputs": [
    {
     "name": "stderr",
     "output_type": "stream",
     "text": [
      "C:\\Users\\aacjp\\Anaconda3\\lib\\site-packages\\seaborn\\_decorators.py:36: FutureWarning:\n",
      "\n",
      "Pass the following variables as keyword args: x, y. From version 0.12, the only valid positional argument will be `data`, and passing other arguments without an explicit keyword will result in an error or misinterpretation.\n",
      "\n"
     ]
    },
    {
     "data": {
      "text/plain": [
       "Text(0.5, 0, 'age group')"
      ]
     },
     "execution_count": 20,
     "metadata": {},
     "output_type": "execute_result"
    },
    {
     "data": {
      "image/png": "[encoded data removed]",
      "text/plain": [
       "<Figure size 432x288 with 1 Axes>"
      ]
     },
     "metadata": {
      "needs_background": "light"
     },
     "output_type": "display_data"
    }
   ],
   "source": [
    "sns.barplot(age_groups, percentages2)\n",
    "plt.title('these are our patients with exercise enduced chest pain')\n",
    "plt.ylabel('percentage of patients at risk')\n",
    "plt.xlabel('age group')"
   ]
  },
  {
   "cell_type": "markdown",
   "metadata": {},
   "source": [
    "Conclusion: 82% of patients with excersise enduced chest pain are at risk of heart attack compared to just 17% without it. With the exception of the 54-65 age group nearly everybody with eecp are at risk\n",
    "\n",
    "Reccomendation: even more so than high blood pressure, having excercise enduced chest pain is an indicator of being at risk. a medical practice could give their patients a small excersise test such as an aerobic actvity to see if they report chest pain of any kind."
   ]
  },
  {
   "cell_type": "markdown",
   "metadata": {},
   "source": [
    "4. what percentage of patients with exercise enduced chest pain have Ventricular Hypertrophy? for context this is a condition in which the heart muscle gets too big because it has to 'work harder' in order to function."
   ]
  },
  {
   "cell_type": "code",
   "execution_count": 32,
   "metadata": {},
   "outputs": [
    {
     "data": {
      "text/plain": [
       "0.62"
      ]
     },
     "execution_count": 32,
     "metadata": {},
     "output_type": "execute_result"
    }
   ],
   "source": [
    "cp = df.loc[df['cp']==1]\n",
    "cp_vent = cp.loc[cp['restecg_type']=='ventricular hypertrophy']\n",
    "len(cp_vent) / len(cp)"
   ]
  },
  {
   "cell_type": "code",
   "execution_count": 35,
   "metadata": {
    "scrolled": true
   },
   "outputs": [
    {
     "name": "stderr",
     "output_type": "stream",
     "text": [
      "C:\\Users\\aacjp\\Anaconda3\\lib\\site-packages\\seaborn\\_decorators.py:36: FutureWarning:\n",
      "\n",
      "Pass the following variables as keyword args: x, y. From version 0.12, the only valid positional argument will be `data`, and passing other arguments without an explicit keyword will result in an error or misinterpretation.\n",
      "\n"
     ]
    },
    {
     "data": {
      "text/plain": [
       "<AxesSubplot:>"
      ]
     },
     "execution_count": 35,
     "metadata": {},
     "output_type": "execute_result"
    },
    {
     "data": {
      "image/png": "[encoded data removed]",
      "text/plain": [
       "<Figure size 432x288 with 1 Axes>"
      ]
     },
     "metadata": {
      "needs_background": "light"
     },
     "output_type": "display_data"
    }
   ],
   "source": [
    "vent_hype = 0\n",
    "STT = 0\n",
    "for i in range(len(cp)):\n",
    "    if cp.iloc[i]['restecg_type'] == 'ST-T':\n",
    "        STT += 1\n",
    "    if cp.iloc[i]['restecg_type'] == 'ventricular hypertrophy':\n",
    "        vent_hype += 1\n",
    "        \n",
    "type_count = [STT/len(cp), vent_hype/len(cp)]\n",
    "types = ['ST-T', 'ventricular hypertrophy']\n",
    "sns.barplot(types, type_count)"
   ]
  },
  {
   "cell_type": "markdown",
   "metadata": {},
   "source": [
    "Conclusion: within our patients who have exercise enduced chest pain 62% have ventricular hypertrophy and 38% have ST-T\n",
    "\n",
    "Reccomendations: For patients with Left Ventricular Hypertrophy we should also check their kidney health. This is because LVH often causes the kidneys to absorb too many fluids due to a lack of bloodflow."
   ]
  },
  {
   "cell_type": "markdown",
   "metadata": {},
   "source": [
    "# Modeling"
   ]
  },
  {
   "cell_type": "markdown",
   "metadata": {},
   "source": [
    "We will be predicting which patients are at risk of heart attack, I will use the potosnail library to build a prototype to iterate off of."
   ]
  },
  {
   "cell_type": "code",
   "execution_count": 43,
   "metadata": {},
   "outputs": [
    {
     "data": {
      "text/html": [
       "<div>\n",
       "<style scoped>\n",
       "    .dataframe tbody tr th:only-of-type {\n",
       "        vertical-align: middle;\n",
       "    }\n",
       "\n",
       "    .dataframe tbody tr th {\n",
       "        vertical-align: top;\n",
       "    }\n",
       "\n",
       "    .dataframe thead th {\n",
       "        text-align: right;\n",
       "    }\n",
       "</style>\n",
       "<table border=\"1\" class=\"dataframe\">\n",
       "  <thead>\n",
       "    <tr style=\"text-align: right;\">\n",
       "      <th></th>\n",
       "      <th>age</th>\n",
       "      <th>sex</th>\n",
       "      <th>cp</th>\n",
       "      <th>trtbps</th>\n",
       "      <th>chol</th>\n",
       "      <th>fbs</th>\n",
       "      <th>restecg</th>\n",
       "      <th>thalachh</th>\n",
       "      <th>exng</th>\n",
       "      <th>oldpeak</th>\n",
       "      <th>slp</th>\n",
       "      <th>caa</th>\n",
       "      <th>thall</th>\n",
       "      <th>output</th>\n",
       "      <th>high_col</th>\n",
       "    </tr>\n",
       "  </thead>\n",
       "  <tbody>\n",
       "    <tr>\n",
       "      <th>0</th>\n",
       "      <td>63</td>\n",
       "      <td>1</td>\n",
       "      <td>3</td>\n",
       "      <td>145</td>\n",
       "      <td>233</td>\n",
       "      <td>1</td>\n",
       "      <td>0</td>\n",
       "      <td>150</td>\n",
       "      <td>0</td>\n",
       "      <td>2.3</td>\n",
       "      <td>0</td>\n",
       "      <td>0</td>\n",
       "      <td>1</td>\n",
       "      <td>1</td>\n",
       "      <td>0</td>\n",
       "    </tr>\n",
       "    <tr>\n",
       "      <th>1</th>\n",
       "      <td>37</td>\n",
       "      <td>1</td>\n",
       "      <td>2</td>\n",
       "      <td>130</td>\n",
       "      <td>250</td>\n",
       "      <td>0</td>\n",
       "      <td>1</td>\n",
       "      <td>187</td>\n",
       "      <td>0</td>\n",
       "      <td>3.5</td>\n",
       "      <td>0</td>\n",
       "      <td>0</td>\n",
       "      <td>2</td>\n",
       "      <td>1</td>\n",
       "      <td>1</td>\n",
       "    </tr>\n",
       "    <tr>\n",
       "      <th>2</th>\n",
       "      <td>41</td>\n",
       "      <td>0</td>\n",
       "      <td>1</td>\n",
       "      <td>130</td>\n",
       "      <td>204</td>\n",
       "      <td>0</td>\n",
       "      <td>0</td>\n",
       "      <td>172</td>\n",
       "      <td>0</td>\n",
       "      <td>1.4</td>\n",
       "      <td>2</td>\n",
       "      <td>0</td>\n",
       "      <td>2</td>\n",
       "      <td>1</td>\n",
       "      <td>0</td>\n",
       "    </tr>\n",
       "    <tr>\n",
       "      <th>3</th>\n",
       "      <td>56</td>\n",
       "      <td>1</td>\n",
       "      <td>1</td>\n",
       "      <td>120</td>\n",
       "      <td>236</td>\n",
       "      <td>0</td>\n",
       "      <td>1</td>\n",
       "      <td>178</td>\n",
       "      <td>0</td>\n",
       "      <td>0.8</td>\n",
       "      <td>2</td>\n",
       "      <td>0</td>\n",
       "      <td>2</td>\n",
       "      <td>1</td>\n",
       "      <td>0</td>\n",
       "    </tr>\n",
       "    <tr>\n",
       "      <th>4</th>\n",
       "      <td>57</td>\n",
       "      <td>0</td>\n",
       "      <td>0</td>\n",
       "      <td>120</td>\n",
       "      <td>354</td>\n",
       "      <td>0</td>\n",
       "      <td>1</td>\n",
       "      <td>163</td>\n",
       "      <td>1</td>\n",
       "      <td>0.6</td>\n",
       "      <td>2</td>\n",
       "      <td>0</td>\n",
       "      <td>2</td>\n",
       "      <td>1</td>\n",
       "      <td>1</td>\n",
       "    </tr>\n",
       "  </tbody>\n",
       "</table>\n",
       "</div>"
      ],
      "text/plain": [
       "   age  sex  cp  trtbps  chol  fbs  restecg  thalachh  exng  oldpeak  slp  \\\n",
       "0   63    1   3     145   233    1        0       150     0      2.3    0   \n",
       "1   37    1   2     130   250    0        1       187     0      3.5    0   \n",
       "2   41    0   1     130   204    0        0       172     0      1.4    2   \n",
       "3   56    1   1     120   236    0        1       178     0      0.8    2   \n",
       "4   57    0   0     120   354    0        1       163     1      0.6    2   \n",
       "\n",
       "   caa  thall  output  high_col  \n",
       "0    0      1       1         0  \n",
       "1    0      2       1         1  \n",
       "2    0      2       1         0  \n",
       "3    0      2       1         0  \n",
       "4    0      2       1         1  "
      ]
     },
     "execution_count": 43,
     "metadata": {},
     "output_type": "execute_result"
    }
   ],
   "source": [
    "df2 = df.drop(['cp_type', 'restecg_type'], axis='columns')\n",
    "df2.head()"
   ]
  },
  {
   "cell_type": "code",
   "execution_count": 48,
   "metadata": {},
   "outputs": [
    {
     "name": "stdout",
     "output_type": "stream",
     "text": [
      "raw data, baseline model: 0.9032258064516129\n",
      "Fitting 3 folds for each of 88 candidates, totalling 264 fits\n"
     ]
    },
    {
     "name": "stderr",
     "output_type": "stream",
     "text": [
      "[Parallel(n_jobs=-1)]: Using backend LokyBackend with 12 concurrent workers.\n",
      "[Parallel(n_jobs=-1)]: Done  17 tasks      | elapsed:    0.0s\n",
      "[Parallel(n_jobs=-1)]: Done 264 out of 264 | elapsed:    0.7s finished\n",
      "[Parallel(n_jobs=-1)]: Using backend LokyBackend with 12 concurrent workers.\n"
     ]
    },
    {
     "name": "stdout",
     "output_type": "stream",
     "text": [
      "raw data, tuned model: 0.9032258064516129\n",
      "Fitting 3 folds for each of 88 candidates, totalling 264 fits\n"
     ]
    },
    {
     "name": "stderr",
     "output_type": "stream",
     "text": [
      "[Parallel(n_jobs=-1)]: Done  17 tasks      | elapsed:    0.0s\n",
      "[Parallel(n_jobs=-1)]: Done 264 out of 264 | elapsed:    0.7s finished\n",
      "[Parallel(n_jobs=-1)]: Using backend LokyBackend with 12 concurrent workers.\n",
      "[Parallel(n_jobs=-1)]: Done  17 tasks      | elapsed:    0.0s\n"
     ]
    },
    {
     "name": "stdout",
     "output_type": "stream",
     "text": [
      "data has been scaled with minmax scaler\n",
      "data is not smoted, tuned model: 0.8387096774193549\n",
      "Fitting 3 folds for each of 88 candidates, totalling 264 fits\n"
     ]
    },
    {
     "name": "stderr",
     "output_type": "stream",
     "text": [
      "[Parallel(n_jobs=-1)]: Done 264 out of 264 | elapsed:    0.7s finished\n",
      "[Parallel(n_jobs=-1)]: Using backend LokyBackend with 12 concurrent workers.\n",
      "[Parallel(n_jobs=-1)]: Done  17 tasks      | elapsed:    0.0s\n"
     ]
    },
    {
     "name": "stdout",
     "output_type": "stream",
     "text": [
      "Fitting 3 folds for each of 88 candidates, totalling 264 fits\n"
     ]
    },
    {
     "name": "stderr",
     "output_type": "stream",
     "text": [
      "[Parallel(n_jobs=-1)]: Done 264 out of 264 | elapsed:    0.7s finished\n",
      "[Parallel(n_jobs=-1)]: Using backend LokyBackend with 12 concurrent workers.\n",
      "[Parallel(n_jobs=-1)]: Done  17 tasks      | elapsed:    0.0s\n"
     ]
    },
    {
     "name": "stdout",
     "output_type": "stream",
     "text": [
      "Fitting 3 folds for each of 88 candidates, totalling 264 fits\n"
     ]
    },
    {
     "name": "stderr",
     "output_type": "stream",
     "text": [
      "[Parallel(n_jobs=-1)]: Done 264 out of 264 | elapsed:    0.7s finished\n",
      "[Parallel(n_jobs=-1)]: Using backend LokyBackend with 12 concurrent workers.\n",
      "[Parallel(n_jobs=-1)]: Done  17 tasks      | elapsed:    0.0s\n"
     ]
    },
    {
     "name": "stdout",
     "output_type": "stream",
     "text": [
      "Fitting 3 folds for each of 88 candidates, totalling 264 fits\n",
      "data is not smoted, tuned model, using 9 features: 0.9032258064516129\n"
     ]
    },
    {
     "name": "stderr",
     "output_type": "stream",
     "text": [
      "[Parallel(n_jobs=-1)]: Done 264 out of 264 | elapsed:    0.7s finished\n"
     ]
    }
   ],
   "source": [
    "results = Wrappers().WrapML(df2, 'output', 'classification', quiet=False)"
   ]
  },
  {
   "cell_type": "code",
   "execution_count": 47,
   "metadata": {},
   "outputs": [
    {
     "data": {
      "text/plain": [
       "[RandomForestClassifier(bootstrap=True, ccp_alpha=0.0, class_weight=None,\n",
       "                        criterion='entropy', max_depth=2, max_features='auto',\n",
       "                        max_leaf_nodes=None, max_samples=None,\n",
       "                        min_impurity_decrease=0.0, min_impurity_split=None,\n",
       "                        min_samples_leaf=1, min_samples_split=2,\n",
       "                        min_weight_fraction_leaf=0.0, n_estimators=14,\n",
       "                        n_jobs=None, oob_score=False, random_state=None,\n",
       "                        verbose=0, warm_start=False),\n",
       "             0        1         2         3         7         8         9  \\\n",
       " 0   -0.050257  0.67420 -0.938151 -0.620790 -1.571297 -0.709057  0.288551   \n",
       " 1    0.168461  0.67420  0.039539 -0.057377  0.606612 -0.709057 -0.907100   \n",
       " 2   -1.471926 -1.48324  0.039539 -0.057377  0.998635 -0.709057  0.288551   \n",
       " 3   -1.253208  0.67420 -0.938151  0.055306 -0.264552  1.410323 -0.821697   \n",
       " 4   -0.268975  0.67420  1.994919 -0.733473  1.782682 -0.709057 -0.907100   \n",
       " ..        ...      ...       ...       ...       ...       ...       ...   \n",
       " 267  0.059102  0.67420  0.039539 -0.057377  0.258146 -0.709057 -0.907100   \n",
       " 268 -0.925130  0.67420 -0.938151  0.506036 -1.266390  1.410323  0.630166   \n",
       " 269  0.277821 -1.48324 -0.938151  0.506036 -1.135715  1.410323 -0.736293   \n",
       " 270  1.371412 -1.48324  1.017229 -0.902497  0.475937 -0.709057  0.459359   \n",
       " 271  0.059102  0.67420 -0.938151  1.632863 -0.177435  1.410323 -0.223871   \n",
       " \n",
       "            10        11        12  output  \n",
       " 0   -0.628946  0.257360  1.133198       0  \n",
       " 1    1.000323 -0.742667  1.133198       1  \n",
       " 2    1.000323 -0.742667 -0.551118       1  \n",
       " 3   -0.628946  3.257441  1.133198       0  \n",
       " 4   -0.628946 -0.742667 -2.235433       1  \n",
       " ..        ...       ...       ...     ...  \n",
       " 267  1.000323 -0.742667 -0.551118       1  \n",
       " 268 -0.628946  1.257387  1.133198       0  \n",
       " 269 -0.628946 -0.742667  1.133198       0  \n",
       " 270 -0.628946 -0.742667  1.133198       1  \n",
       " 271 -0.628946  0.257360  1.133198       0  \n",
       " \n",
       " [272 rows x 11 columns],\n",
       "            0        1         2         3         7         8         9  \\\n",
       " 0   1.497362  0.74162 -0.945274 -1.758973 -1.059244  1.695582 -0.720681   \n",
       " 1   0.294817 -1.34840 -0.029540  0.216174 -0.078351 -0.589768  0.444942   \n",
       " 2  -1.388745 -1.34840  0.886194 -1.194645  0.855833 -0.589768 -0.817816   \n",
       " 3   1.136598  0.74162  1.801928  0.568879 -0.218479 -0.589768  1.416295   \n",
       " 4  -1.268490  0.74162 -0.945274 -1.900055  0.295323 -0.589768 -0.817816   \n",
       " 5  -0.546964 -1.34840 -0.029540 -0.207072  0.342032 -0.589768 -0.817816   \n",
       " 6   0.415072  0.74162 -0.945274  0.921583 -1.993429  1.695582 -0.235005   \n",
       " 7   1.377107  0.74162 -0.945274 -1.194645 -0.685571 -0.589768 -0.429275   \n",
       " 8  -0.667218  0.74162 -0.945274 -0.912481  0.528869 -0.589768 -0.332140   \n",
       " 9   1.016344 -1.34840 -0.945274  0.075092 -2.273684 -0.589768  1.027754   \n",
       " 10  1.136598 -1.34840 -0.945274  0.921583 -0.031642 -0.589768  3.067594   \n",
       " 11 -1.629254  0.74162  1.801928  0.216174  1.089379  1.695582  0.542077   \n",
       " 12  0.174563 -1.34840 -0.029540 -0.348154  0.528869 -0.589768  0.347807   \n",
       " 13  0.775835 -1.34840  1.801928  0.921583  0.762415 -0.589768  0.056401   \n",
       " 14  1.617616  0.74162  0.886194  1.062665 -0.218479 -0.589768 -0.040734   \n",
       " 15  0.535326 -1.34840  0.886194 -1.194645  0.809124 -0.589768 -0.817816   \n",
       " 16 -1.388745  0.74162 -0.945274  0.216174  1.089379 -0.589768 -0.817816   \n",
       " 17  0.054308 -1.34840  0.886194  1.626993  0.388741 -0.589768 -0.817816   \n",
       " 18  0.294817  0.74162 -0.945274 -0.348154 -2.320393  1.695582  1.222024   \n",
       " 19 -0.065946  0.74162 -0.945274  0.357256 -2.040138  1.695582 -0.817816   \n",
       " 20  0.415072 -1.34840 -0.945274 -0.630318  0.201904 -0.589768 -0.817816   \n",
       " 21  0.054308  0.74162  0.886194 -1.194645 -0.358606 -0.589768 -0.429275   \n",
       " 22 -0.186200  0.74162 -0.945274 -0.630318  0.061777  1.695582  0.153536   \n",
       " 23 -1.629254  0.74162 -0.945274  1.062665  1.229507 -0.589768 -0.817816   \n",
       " 24  0.054308  0.74162  0.886194  0.921583  0.482160 -0.589768  0.736348   \n",
       " 25  0.655581  0.74162  0.886194  0.921583  0.108486 -0.589768  0.736348   \n",
       " 26  0.655581  0.74162 -0.945274  2.332402 -0.685571  1.695582  2.484783   \n",
       " 27  0.415072 -1.34840 -0.945274 -1.194645  0.388741  1.695582 -0.235005   \n",
       " 28 -1.869763  0.74162  0.886194  0.075092  0.855833 -0.589768 -0.817816   \n",
       " 29 -0.186200  0.74162  0.886194  0.075092  0.668996 -0.589768 -0.817816   \n",
       " 30 -1.749508  0.74162  0.886194  0.216174  1.276216 -0.589768 -0.817816   \n",
       " \n",
       "           10        11        12  output  \n",
       " 0   0.786214  0.327327 -0.262613       0  \n",
       " 1  -0.838628 -0.518267 -0.262613       1  \n",
       " 2  -0.838628 -0.518267 -0.262613       1  \n",
       " 3  -2.463469 -0.518267 -1.619446       1  \n",
       " 4   0.786214 -0.518267  1.094220       1  \n",
       " 5  -0.838628 -0.518267 -0.262613       1  \n",
       " 6  -0.838628  0.327327 -1.619446       0  \n",
       " 7   0.786214 -0.518267  1.094220       1  \n",
       " 8  -0.838628 -0.518267  1.094220       0  \n",
       " 9  -0.838628  2.018515 -0.262613       0  \n",
       " 10 -0.838628  2.018515  1.094220       0  \n",
       " 11  0.786214 -0.518267  1.094220       1  \n",
       " 12  0.786214 -0.518267 -0.262613       1  \n",
       " 13  0.786214 -0.518267 -0.262613       1  \n",
       " 14 -0.838628 -0.518267  1.094220       0  \n",
       " 15  0.786214 -0.518267 -0.262613       1  \n",
       " 16  0.786214 -0.518267 -0.262613       1  \n",
       " 17  0.786214  0.327327 -0.262613       1  \n",
       " 18 -0.838628  0.327327 -1.619446       0  \n",
       " 19  0.786214 -0.518267  1.094220       1  \n",
       " 20  0.786214  0.327327 -0.262613       1  \n",
       " 21 -0.838628 -0.518267  1.094220       1  \n",
       " 22 -0.838628 -0.518267 -2.976279       0  \n",
       " 23  0.786214 -0.518267  1.094220       0  \n",
       " 24  0.786214 -0.518267  1.094220       1  \n",
       " 25  0.786214 -0.518267 -0.262613       1  \n",
       " 26 -2.463469 -0.518267  1.094220       0  \n",
       " 27  0.786214 -0.518267 -0.262613       1  \n",
       " 28  0.786214  2.864110 -0.262613       1  \n",
       " 29  0.786214  2.864110 -0.262613       1  \n",
       " 30  0.786214 -0.518267 -0.262613       1  ,\n",
       " 'standard',\n",
       " None]"
      ]
     },
     "execution_count": 47,
     "metadata": {},
     "output_type": "execute_result"
    }
   ],
   "source": [
    "results"
   ]
  },
  {
   "cell_type": "code",
   "execution_count": 64,
   "metadata": {},
   "outputs": [],
   "source": [
    "model = results[0]\n",
    "train = results[1]\n",
    "val = results[2]"
   ]
  },
  {
   "cell_type": "code",
   "execution_count": 67,
   "metadata": {},
   "outputs": [
    {
     "data": {
      "text/plain": [
       "<sklearn.metrics._plot.confusion_matrix.ConfusionMatrixDisplay at 0x2529dec35e0>"
      ]
     },
     "execution_count": 67,
     "metadata": {},
     "output_type": "execute_result"
    },
    {
     "data": {
      "image/png": "[encoded data removed]",
      "text/plain": [
       "<Figure size 432x288 with 2 Axes>"
      ]
     },
     "metadata": {
      "needs_background": "light"
     },
     "output_type": "display_data"
    }
   ],
   "source": [
    "model.fit(train.drop(['output'], axis='columns'), train['output'])\n",
    "Evaluater().BuildConfusion(model, val.drop(['output'], axis='columns'), val['output'])"
   ]
  },
  {
   "cell_type": "code",
   "execution_count": 68,
   "metadata": {},
   "outputs": [
    {
     "data": {
      "text/plain": [
       "0.8709677419354839"
      ]
     },
     "execution_count": 68,
     "metadata": {},
     "output_type": "execute_result"
    }
   ],
   "source": [
    "27/31"
   ]
  },
  {
   "cell_type": "code",
   "execution_count": 69,
   "metadata": {},
   "outputs": [
    {
     "data": {
      "text/plain": [
       "0.8823529411764706"
      ]
     },
     "execution_count": 69,
     "metadata": {},
     "output_type": "execute_result"
    }
   ],
   "source": [
    "15/17"
   ]
  },
  {
   "cell_type": "code",
   "execution_count": null,
   "metadata": {},
   "outputs": [],
   "source": []
  }
 ],
 "metadata": {
  "kernelspec": {
   "display_name": "Python 3",
   "language": "python",
   "name": "python3"
  },
  "language_info": {
   "codemirror_mode": {
    "name": "ipython",
    "version": 3
   },
   "file_extension": ".py",
   "mimetype": "text/x-python",
   "name": "python",
   "nbconvert_exporter": "python",
   "pygments_lexer": "ipython3",
   "version": "3.8.5"
  }
 },
 "nbformat": 4,
 "nbformat_minor": 4
}
